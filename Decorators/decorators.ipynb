{
 "cells": [
  {
   "cell_type": "markdown",
   "metadata": {},
   "source": [
    "### Decorators"
   ]
  },
  {
   "cell_type": "markdown",
   "metadata": {},
   "source": [
    "### kwargs in python"
   ]
  },
  {
   "cell_type": "code",
   "execution_count": null,
   "metadata": {},
   "outputs": [],
   "source": [
    "a = 23 - int (any number without decimal)\n",
    "b = 45.7 - float (any number with decimal)\n",
    "c = \"example\" - str (contains characters, numbers and symbol)\n",
    "d = True / False - Boolean\n",
    "e = [1, 2, 3, False, \"Example\"] - list\n",
    "f = (4, 5.6, True, \"Example\") - tuple\n",
    "g = {key1: value1, key2: value2, ...} - dict\n",
    "h = {value1, value2, value3, ...} - set will store only unique values\n",
    "\n",
    "**kwargs acts like a dictionary"
   ]
  },
  {
   "cell_type": "code",
   "execution_count": 1,
   "metadata": {},
   "outputs": [],
   "source": [
    "a={\n",
    "    \"name\":\"Utkarsh\",\n",
    "    \"age\":28,\n",
    "    \"salary\":15000\n",
    "}"
   ]
  },
  {
   "cell_type": "code",
   "execution_count": 2,
   "metadata": {},
   "outputs": [
    {
     "data": {
      "text/plain": [
       "dict"
      ]
     },
     "execution_count": 2,
     "metadata": {},
     "output_type": "execute_result"
    }
   ],
   "source": [
    "type(a)"
   ]
  },
  {
   "cell_type": "code",
   "execution_count": 3,
   "metadata": {},
   "outputs": [
    {
     "data": {
      "text/plain": [
       "dict_keys(['name', 'age', 'salary'])"
      ]
     },
     "execution_count": 3,
     "metadata": {},
     "output_type": "execute_result"
    }
   ],
   "source": [
    "a.keys()"
   ]
  },
  {
   "cell_type": "code",
   "execution_count": 5,
   "metadata": {},
   "outputs": [
    {
     "data": {
      "text/plain": [
       "dict_values(['Utkarsh', 28, 15000])"
      ]
     },
     "execution_count": 5,
     "metadata": {},
     "output_type": "execute_result"
    }
   ],
   "source": [
    "a.values()"
   ]
  },
  {
   "cell_type": "code",
   "execution_count": 6,
   "metadata": {},
   "outputs": [
    {
     "data": {
      "text/plain": [
       "dict_items([('name', 'Utkarsh'), ('age', 28), ('salary', 15000)])"
      ]
     },
     "execution_count": 6,
     "metadata": {},
     "output_type": "execute_result"
    }
   ],
   "source": [
    "a.items()\n"
   ]
  },
  {
   "cell_type": "code",
   "execution_count": 7,
   "metadata": {},
   "outputs": [
    {
     "name": "stdout",
     "output_type": "stream",
     "text": [
      "name:Utkarsh\n",
      "age:28\n",
      "salary:15000\n"
     ]
    }
   ],
   "source": [
    "for key, value in a.items():\n",
    "    print(f\"{key}:{value}\")"
   ]
  },
  {
   "cell_type": "code",
   "execution_count": 10,
   "metadata": {},
   "outputs": [],
   "source": [
    "def function(**kwargs):\n",
    "    print(kwargs)\n",
    "    print(type(kwargs))\n",
    "    for key, value in kwargs.items():\n",
    "        print(f\"{key}:{value}\")"
   ]
  },
  {
   "cell_type": "code",
   "execution_count": 11,
   "metadata": {},
   "outputs": [
    {
     "name": "stdout",
     "output_type": "stream",
     "text": [
      "{'name': 'Sarthak', 'age': 23}\n",
      "<class 'dict'>\n",
      "name:Sarthak\n",
      "age:23\n"
     ]
    }
   ],
   "source": [
    "function(name=\"Sarthak\",age=23)"
   ]
  },
  {
   "cell_type": "code",
   "execution_count": 13,
   "metadata": {},
   "outputs": [
    {
     "name": "stdout",
     "output_type": "stream",
     "text": [
      "{'emp_id': 101, 'name': 'Aditya', 'dept': 'Markt', 'married': False}\n",
      "<class 'dict'>\n",
      "emp_id:101\n",
      "name:Aditya\n",
      "dept:Markt\n",
      "married:False\n"
     ]
    }
   ],
   "source": [
    "function(emp_id=101, name=\"Aditya\", dept=\"Markt\",married=False)\n"
   ]
  },
  {
   "cell_type": "markdown",
   "metadata": {},
   "source": [
    "#### Example conside a restaurant menu, consider menu is provided with taxex include in a dictionary"
   ]
  },
  {
   "cell_type": "code",
   "execution_count": 14,
   "metadata": {},
   "outputs": [],
   "source": [
    "menu={\n",
    "    \"burger\":120,\n",
    "    \"sandwich\":80,\n",
    "    \"fries\":60,\n",
    "    \"pasta\":200,\n",
    "    \"pizza\":300\n",
    "}"
   ]
  },
  {
   "cell_type": "code",
   "execution_count": 16,
   "metadata": {},
   "outputs": [
    {
     "data": {
      "text/plain": [
       "120"
      ]
     },
     "execution_count": 16,
     "metadata": {},
     "output_type": "execute_result"
    }
   ],
   "source": [
    "menu.get(\"burger\")"
   ]
  },
  {
   "cell_type": "code",
   "execution_count": 18,
   "metadata": {},
   "outputs": [
    {
     "name": "stdout",
     "output_type": "stream",
     "text": [
      "None\n"
     ]
    }
   ],
   "source": [
    "print(menu.get(\"maggi\"))"
   ]
  },
  {
   "cell_type": "markdown",
   "metadata": {},
   "source": [
    "### Hotel_bill (table_no=1 , burger=3, sandwich=2, fries=1)"
   ]
  },
  {
   "cell_type": "code",
   "execution_count": 28,
   "metadata": {},
   "outputs": [],
   "source": [
    "def hotel_bill(table_no, **kwargs):\n",
    "    # Print table number\n",
    "    print(f\"Table number - {table_no}\")\n",
    "    # Intialize total amount to 0\n",
    "    amt = 0\n",
    "    # Apply for loop on kwargs\n",
    "    for food, qty in kwargs.items():\n",
    "        price = menu.get(food)\n",
    "        if price is not None:\n",
    "            subtotal = price*qty\n",
    "            amt += subtotal\n",
    "        print(f\"Food item - {food}, qty- {qty}, price - {price} INR, subtotal - {subtotal} INR\")\n",
    "    # Show the final bill\n",
    "    print(f\"Final Bill is : {amt} INR\")\n",
    "    return amt"
   ]
  },
  {
   "cell_type": "code",
   "execution_count": 30,
   "metadata": {},
   "outputs": [
    {
     "name": "stdout",
     "output_type": "stream",
     "text": [
      "Table number - 1\n",
      "Food item - burger, qty- 1, price - 120 INR, subtotal - 120 INR\n",
      "Food item - fries, qty- 2, price - 60 INR, subtotal - 120 INR\n",
      "Final Bill is : 240 INR\n"
     ]
    }
   ],
   "source": [
    "c1=hotel_bill(\n",
    "    table_no=1,\n",
    "    burger=1,\n",
    "    fries=2\n",
    ")"
   ]
  },
  {
   "cell_type": "code",
   "execution_count": 31,
   "metadata": {},
   "outputs": [
    {
     "name": "stdout",
     "output_type": "stream",
     "text": [
      "Table number - 2\n",
      "Food item - sandwich, qty- 4, price - 80 INR, subtotal - 320 INR\n",
      "Food item - pizza, qty- 1, price - 300 INR, subtotal - 300 INR\n",
      "Food item - fries, qty- 5, price - 60 INR, subtotal - 300 INR\n",
      "Final Bill is : 920 INR\n"
     ]
    }
   ],
   "source": [
    "c2 = hotel_bill(\n",
    "    table_no=2,\n",
    "    sandwich = 4,\n",
    "    pizza = 1,\n",
    "    fries = 5\n",
    ")"
   ]
  },
  {
   "cell_type": "markdown",
   "metadata": {},
   "source": [
    "# Decorators"
   ]
  },
  {
   "cell_type": "markdown",
   "metadata": {},
   "source": [
    "##### Write a decorator which will welcome user , print function results and thank the user"
   ]
  },
  {
   "cell_type": "code",
   "execution_count": 32,
   "metadata": {},
   "outputs": [],
   "source": [
    "def welcome(func):\n",
    "    def wrapper(*args, **kwargs):\n",
    "        print(\"Hi Welcome to my function\")\n",
    "        res = func(*args, **kwargs)\n",
    "        print(f\"Function Results : {res}\")\n",
    "        print(\"Thank you\")\n",
    "        return res\n",
    "    return wrapper"
   ]
  },
  {
   "cell_type": "code",
   "execution_count": 33,
   "metadata": {},
   "outputs": [],
   "source": [
    "@welcome\n",
    "def simple_interst(p, n, r):\n",
    "    I = (p*n*r)/100\n",
    "    A = p + I\n",
    "    return I, A"
   ]
  },
  {
   "cell_type": "code",
   "execution_count": 34,
   "metadata": {},
   "outputs": [
    {
     "name": "stdout",
     "output_type": "stream",
     "text": [
      "Hi Welcome to my function\n",
      "Function Results : (3550.0, 13550.0)\n",
      "Thank you\n"
     ]
    }
   ],
   "source": [
    "p1 = simple_interst(10000, 5, 7.1)"
   ]
  },
  {
   "cell_type": "code",
   "execution_count": 35,
   "metadata": {},
   "outputs": [
    {
     "data": {
      "text/plain": [
       "(3550.0, 13550.0)"
      ]
     },
     "execution_count": 35,
     "metadata": {},
     "output_type": "execute_result"
    }
   ],
   "source": [
    "p1"
   ]
  },
  {
   "cell_type": "code",
   "execution_count": 36,
   "metadata": {},
   "outputs": [],
   "source": [
    "@welcome\n",
    "def hypotenuse(a, b):\n",
    "    c = (a**2 + b**2)**(1/2)\n",
    "    return c"
   ]
  },
  {
   "cell_type": "code",
   "execution_count": 37,
   "metadata": {},
   "outputs": [
    {
     "name": "stdout",
     "output_type": "stream",
     "text": [
      "Hi Welcome to my function\n",
      "Function Results : 5.0\n",
      "Thank you\n"
     ]
    }
   ],
   "source": [
    "h1 = hypotenuse(a=3, b=4)"
   ]
  },
  {
   "cell_type": "code",
   "execution_count": 38,
   "metadata": {},
   "outputs": [
    {
     "name": "stdout",
     "output_type": "stream",
     "text": [
      "Hi Welcome to my function\n",
      "Function Results : 8.149233092751734\n",
      "Thank you\n"
     ]
    }
   ],
   "source": [
    "h2 = hypotenuse(4, 7.1)"
   ]
  }
 ],
 "metadata": {
  "kernelspec": {
   "display_name": "base",
   "language": "python",
   "name": "python3"
  },
  "language_info": {
   "codemirror_mode": {
    "name": "ipython",
    "version": 3
   },
   "file_extension": ".py",
   "mimetype": "text/x-python",
   "name": "python",
   "nbconvert_exporter": "python",
   "pygments_lexer": "ipython3",
   "version": "3.12.4"
  }
 },
 "nbformat": 4,
 "nbformat_minor": 2
}
